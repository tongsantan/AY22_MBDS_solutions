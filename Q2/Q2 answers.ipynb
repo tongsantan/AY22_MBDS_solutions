{
 "cells": [
  {
   "cell_type": "code",
   "execution_count": 1,
   "metadata": {},
   "outputs": [],
   "source": [
    "import numpy as np\n",
    "import matplotlib.pyplot as plt\n",
    "import scipy.integrate"
   ]
  },
  {
   "cell_type": "markdown",
   "metadata": {},
   "source": [
    "### Q2.1 Using the law of mass action"
   ]
  },
  {
   "cell_type": "markdown",
   "metadata": {},
   "source": [
    "$$\n",
    "  \\frac{dS}{dt}\\ = -k_1\\,* S\\,* E + k_2\\,* ES\n",
    "$$\n",
    "\n",
    "$$\n",
    "  \\frac{dE}{dt}\\ = -k_1\\,* S\\,* E + k_2\\,* ES + k_3\\,* ES\n",
    "$$\n",
    "\n",
    "$$\n",
    "  \\frac{dP}{dt}\\ = k_3\\,* ES\n",
    "$$\n",
    "\n",
    "$$\n",
    "  \\frac{dES}{dt}\\ = k_1\\,* S\\,* E - k_2\\,* ES - k_3\\,* ES\n",
    "$$"
   ]
  },
  {
   "cell_type": "markdown",
   "metadata": {},
   "source": [
    "### Q2.2 "
   ]
  },
  {
   "cell_type": "code",
   "execution_count": 2,
   "metadata": {},
   "outputs": [],
   "source": [
    "def enzyme_kinetics(t, x, params): # t = time, x = vector, params = vector\n",
    "    \"\"\" returns the rate of change of vector x with time t, dxdt\"\"\"\n",
    "    S = x[0] # first element of the vector x\n",
    "    E = x[1] # second element of the vector x\n",
    "    P = x[2] # third element of the vector x\n",
    "    ES = x[3] # fourth element of the vector x\n",
    "    \n",
    "    k1 = params[0] # first element of the vector params\n",
    "    k2 = params[1] # second element of the vector params\n",
    "    k3 = params[2] # third element of the vector params\n",
    "    \n",
    "    dxdt = np.zeros((4,)) # initialize a zero vector with 4 columns and assign it to a variable, dxdt\n",
    "    dxdt[0] = -k1*S*E + k2*ES # S\n",
    "    dxdt[1] = -k1*S*E + k2*ES + k3*ES # E\n",
    "    dxdt[2] = k3*ES # P\n",
    "    dxdt[3] = k1*S*E - k2*ES - k3*ES # ES\n",
    "    return dxdt"
   ]
  },
  {
   "cell_type": "markdown",
   "metadata": {},
   "source": [
    "### The classic Runge-Kutta method (4th order)"
   ]
  },
  {
   "cell_type": "markdown",
   "metadata": {},
   "source": [
    "$$\n",
    "y_{i+1}\\, = y_i + 1/6*(k_1 + 2*k_2 + 2*k_3 + k_4)*h,\n",
    "$$\n",
    "\n",
    "$$\n",
    "x_{i+1}\\, = x_i + h\n",
    "$$\n",
    "\n",
    "                                    for i = 0, 1, 2, 3, ...., using\n",
    "\n",
    "$$\n",
    "  k_1\\, = f(x_i, y_i), \n",
    "$$\n",
    "\n",
    "$$\n",
    "  k_2\\, = f(x_i + 1/2*h,  y_i + 1/2*k_1*h), \n",
    "$$\n",
    "\n",
    "$$\n",
    "  k_3\\, = f(x_i + 1/2*h,  y_i + 1/2*k_2*h),\n",
    "$$\n",
    "\n",
    "$$\n",
    "  k_4\\, = f(x_i + h,  y_i + k_3*h),\n",
    "$$\n"
   ]
  },
  {
   "cell_type": "code",
   "execution_count": 3,
   "metadata": {},
   "outputs": [
    {
     "data": {
      "text/plain": [
       "  message: 'The solver successfully reached the end of the integration interval.'\n",
       "     nfev: 1856\n",
       "     njev: 0\n",
       "      nlu: 0\n",
       "      sol: None\n",
       "   status: 0\n",
       "  success: True\n",
       "        t: array([0.  , 0.01, 0.02, 0.03, 0.04, 0.05, 0.06, 0.07, 0.08, 0.09, 0.1 ,\n",
       "       0.11, 0.12, 0.13, 0.14, 0.15, 0.16, 0.17, 0.18, 0.19, 0.2 , 0.21,\n",
       "       0.22, 0.23, 0.24, 0.25, 0.26, 0.27, 0.28, 0.29, 0.3 , 0.31, 0.32,\n",
       "       0.33, 0.34, 0.35, 0.36, 0.37, 0.38, 0.39, 0.4 , 0.41, 0.42, 0.43,\n",
       "       0.44, 0.45, 0.46, 0.47, 0.48, 0.49, 0.5 , 0.51, 0.52, 0.53, 0.54,\n",
       "       0.55, 0.56, 0.57, 0.58, 0.59, 0.6 , 0.61, 0.62, 0.63, 0.64, 0.65,\n",
       "       0.66, 0.67, 0.68, 0.69, 0.7 , 0.71, 0.72, 0.73, 0.74, 0.75, 0.76,\n",
       "       0.77, 0.78, 0.79, 0.8 , 0.81, 0.82, 0.83, 0.84, 0.85, 0.86, 0.87,\n",
       "       0.88, 0.89, 0.9 , 0.91, 0.92, 0.93, 0.94, 0.95, 0.96, 0.97, 0.98,\n",
       "       0.99])\n",
       " t_events: None\n",
       "        y: array([[ 1.00000000e+01,  8.68684259e+00,  7.91935714e+00,\n",
       "         7.18832609e+00,  6.49579583e+00,  5.84222831e+00,\n",
       "         5.22918040e+00,  4.65780029e+00,  4.12888581e+00,\n",
       "         3.64199104e+00,  3.19646304e+00,  2.79277147e+00,\n",
       "         2.42900558e+00,  2.10273838e+00,  1.81321228e+00,\n",
       "         1.55740349e+00,  1.33318129e+00,  1.13754510e+00,\n",
       "         9.67833763e-01,  8.21313469e-01,  6.95258686e-01,\n",
       "         5.87401410e-01,  4.95524695e-01,  4.17306578e-01,\n",
       "         3.50961253e-01,  2.94932340e-01,  2.47506905e-01,\n",
       "         2.07559487e-01,  1.73983200e-01,  1.45686948e-01,\n",
       "         1.21998084e-01,  1.02075246e-01,  8.53989819e-02,\n",
       "         7.14210692e-02,  5.97087050e-02,  4.99186284e-02,\n",
       "         4.17114413e-02,  3.48612290e-02,  2.91241764e-02,\n",
       "         2.43378726e-02,  2.03276201e-02,  1.69809717e-02,\n",
       "         1.41840241e-02,  1.18450174e-02,  9.89542202e-03,\n",
       "         8.26159177e-03,  6.90284285e-03,  5.76204406e-03,\n",
       "         4.81520387e-03,  4.01860791e-03,  3.35786144e-03,\n",
       "         2.80161277e-03,  2.34213048e-03,  1.95387539e-03,\n",
       "         1.63389907e-03,  1.36274274e-03,  1.13863581e-03,\n",
       "         9.49875895e-04,  7.93466880e-04,  6.62628945e-04,\n",
       "         5.53035448e-04,  4.62334630e-04,  3.86013197e-04,\n",
       "         3.22524662e-04,  2.68574612e-04,  2.25041021e-04,\n",
       "         1.86828412e-04,  1.57098912e-04,  1.30826352e-04,\n",
       "         1.09807402e-04,  9.10187032e-05,  7.69764460e-05,\n",
       "         6.31631653e-05,  5.38271765e-05,  4.34981532e-05,\n",
       "         3.75685223e-05,  3.00217859e-05,  2.63868259e-05,\n",
       "         2.04850726e-05,  1.87237040e-05,  1.41190923e-05,\n",
       "         1.28473723e-05,  1.01391763e-05,  9.16863320e-06,\n",
       "         7.16006602e-06,  7.26640799e-06,  4.90266984e-06,\n",
       "         4.79185913e-06,  3.00271726e-06,  3.74478302e-06,\n",
       "         2.26842590e-06,  3.18917927e-06,  1.76424110e-06,\n",
       "         1.72802699e-06,  9.48983387e-07,  8.51126330e-07,\n",
       "         8.55897763e-07,  3.78015162e-07,  8.26335923e-07,\n",
       "         8.41247773e-07],\n",
       "       [ 1.00000000e+00,  4.62674622e-01,  4.85147966e-01,\n",
       "         5.08859616e-01,  5.34247325e-01,  5.60130222e-01,\n",
       "         5.86756257e-01,  6.14207296e-01,  6.42534120e-01,\n",
       "         6.70797379e-01,  6.98290820e-01,  7.26127739e-01,\n",
       "         7.53211644e-01,  7.78347072e-01,  8.02763934e-01,\n",
       "         8.25446647e-01,  8.46743074e-01,  8.66188095e-01,\n",
       "         8.83829627e-01,  8.99644532e-01,  9.13548846e-01,\n",
       "         9.25868785e-01,  9.36803240e-01,  9.46199235e-01,\n",
       "         9.54307226e-01,  9.61407098e-01,  9.67344449e-01,\n",
       "         9.72443715e-01,  9.76835666e-01,  9.80472257e-01,\n",
       "         9.83636273e-01,  9.86247724e-01,  9.88479685e-01,\n",
       "         9.90349690e-01,  9.91911497e-01,  9.93238309e-01,\n",
       "         9.94331353e-01,  9.95264807e-01,  9.96035556e-01,\n",
       "         9.96692731e-01,  9.97230790e-01,  9.97686621e-01,\n",
       "         9.98067163e-01,  9.98382665e-01,  9.98651817e-01,\n",
       "         9.98870377e-01,  9.99060314e-01,  9.99211813e-01,\n",
       "         9.99345668e-01,  9.99450399e-01,  9.99543416e-01,\n",
       "         9.99615699e-01,  9.99682234e-01,  9.99732263e-01,\n",
       "         9.99779232e-01,  9.99813638e-01,  9.99845210e-01,\n",
       "         9.99869604e-01,  9.99891459e-01,  9.99909431e-01,\n",
       "         9.99924026e-01,  9.99937208e-01,  9.99947504e-01,\n",
       "         9.99956399e-01,  9.99962685e-01,  9.99969785e-01,\n",
       "         9.99973443e-01,  9.99979157e-01,  9.99982162e-01,\n",
       "         9.99985793e-01,  9.99987315e-01,  9.99990595e-01,\n",
       "         9.99990788e-01,  9.99993630e-01,  9.99992914e-01,\n",
       "         9.99995603e-01,  9.99994683e-01,  9.99997168e-01,\n",
       "         9.99995746e-01,  9.99998422e-01,  9.99996833e-01,\n",
       "         9.99998646e-01,  9.99998151e-01,  9.99999313e-01,\n",
       "         9.99998821e-01,  1.00000059e+00,  9.99999068e-01,\n",
       "         1.00000007e+00,  9.99998843e-01,  1.00000054e+00,\n",
       "         9.99999407e-01,  1.00000108e+00,  9.99999809e-01,\n",
       "         1.00000015e+00,  9.99999524e-01,  9.99999674e-01,\n",
       "         9.99999905e-01,  9.99999510e-01,  1.00000021e+00,\n",
       "         1.00000036e+00],\n",
       "       [ 0.00000000e+00,  7.75832036e-01,  1.56579082e+00,\n",
       "         2.32053352e+00,  3.03845149e+00,  3.71790192e+00,\n",
       "         4.35757586e+00,  4.95640701e+00,  5.51364831e+00,\n",
       "         6.02880634e+00,  6.50182778e+00,  6.93335627e+00,\n",
       "         7.32420607e+00,  7.67560869e+00,  7.98955165e+00,\n",
       "         8.26804316e+00,  8.51356179e+00,  8.72864299e+00,\n",
       "         8.91599586e+00,  9.07833106e+00,  9.21829016e+00,\n",
       "         9.33846738e+00,  9.44127854e+00,  9.52889266e+00,\n",
       "         9.60334597e+00,  9.66647476e+00,  9.71983754e+00,\n",
       "         9.76488423e+00,  9.80285247e+00,  9.83478531e+00,\n",
       "         9.86163819e+00,  9.88417248e+00,  9.90308070e+00,\n",
       "         9.91892862e+00,  9.93220279e+00,  9.94331968e+00,\n",
       "         9.95261991e+00,  9.96040358e+00,  9.96691138e+00,\n",
       "         9.97235486e+00,  9.97690317e+00,  9.98070565e+00,\n",
       "         9.98388314e+00,  9.98653765e+00,  9.98875639e+00,\n",
       "         9.99060878e+00,  9.99215747e+00,  9.99344977e+00,\n",
       "         9.99453046e+00,  9.99543179e+00,  9.99618555e+00,\n",
       "         9.99681409e+00,  9.99734010e+00,  9.99777839e+00,\n",
       "         9.99814533e+00,  9.99845090e+00,  9.99870657e+00,\n",
       "         9.99891973e+00,  9.99909799e+00,  9.99924680e+00,\n",
       "         9.99937099e+00,  9.99947487e+00,  9.99956149e+00,\n",
       "         9.99963387e+00,  9.99969411e+00,  9.99974474e+00,\n",
       "         9.99978661e+00,  9.99982206e+00,  9.99985134e+00,\n",
       "         9.99987599e+00,  9.99989630e+00,  9.99991362e+00,\n",
       "         9.99992762e+00,  9.99993980e+00,  9.99994942e+00,\n",
       "         9.99995803e+00,  9.99996466e+00,  9.99997078e+00,\n",
       "         9.99997526e+00,  9.99997970e+00,  9.99998271e+00,\n",
       "         9.99998580e+00,  9.99998801e+00,  9.99999014e+00,\n",
       "         9.99999166e+00,  9.99999332e+00,  9.99999417e+00,\n",
       "         9.99999528e+00,  9.99999584e+00,  9.99999680e+00,\n",
       "         9.99999714e+00,  9.99999790e+00,  9.99999804e+00,\n",
       "         9.99999842e+00,  9.99999857e+00,  9.99999882e+00,\n",
       "         9.99999905e+00,  9.99999913e+00,  9.99999939e+00,\n",
       "         9.99999952e+00],\n",
       "       [ 0.00000000e+00,  5.37325378e-01,  5.14852034e-01,\n",
       "         4.91140384e-01,  4.65752675e-01,  4.39869778e-01,\n",
       "         4.13243743e-01,  3.85792704e-01,  3.57465880e-01,\n",
       "         3.29202621e-01,  3.01709180e-01,  2.73872261e-01,\n",
       "         2.46788356e-01,  2.21652928e-01,  1.97236066e-01,\n",
       "         1.74553353e-01,  1.53256926e-01,  1.33811905e-01,\n",
       "         1.16170373e-01,  1.00355468e-01,  8.64511536e-02,\n",
       "         7.41312151e-02,  6.31967605e-02,  5.38007652e-02,\n",
       "         4.56927744e-02,  3.85929016e-02,  3.26555510e-02,\n",
       "         2.75562854e-02,  2.31643339e-02,  1.95277432e-02,\n",
       "         1.63637267e-02,  1.37522764e-02,  1.15203148e-02,\n",
       "         9.65030992e-03,  8.08850337e-03,  6.76169066e-03,\n",
       "         5.66864673e-03,  4.73519303e-03,  3.96444395e-03,\n",
       "         3.30726945e-03,  2.76921021e-03,  2.31337872e-03,\n",
       "         1.93283735e-03,  1.61733499e-03,  1.34818299e-03,\n",
       "         1.12962326e-03,  9.39686490e-04,  7.88186855e-04,\n",
       "         6.54331747e-04,  5.49601151e-04,  4.56583613e-04,\n",
       "         3.84300543e-04,  3.17766476e-04,  2.67736989e-04,\n",
       "         2.20767853e-04,  1.86362064e-04,  1.54789684e-04,\n",
       "         1.30395758e-04,  1.08541098e-04,  9.05694821e-05,\n",
       "         7.59739890e-05,  6.27922996e-05,  5.24956808e-05,\n",
       "         4.36014270e-05,  3.73148561e-05,  3.02152723e-05,\n",
       "         2.65567828e-05,  2.08433111e-05,  1.78383159e-05,\n",
       "         1.42074437e-05,  1.26849898e-05,  9.40466257e-06,\n",
       "         9.21229067e-06,  6.36964051e-06,  7.08636693e-06,\n",
       "         4.39663835e-06,  5.31683721e-06,  2.83191963e-06,\n",
       "         4.25390290e-06,  1.57802755e-06,  3.16671639e-06,\n",
       "         1.35408030e-06,  1.84886345e-06,  6.87226295e-07,\n",
       "         1.17890306e-06, -5.86371581e-07,  9.31555475e-07,\n",
       "        -7.36679200e-08,  1.15672993e-06, -5.43719143e-07,\n",
       "         5.93380898e-07, -1.08433398e-06,  1.91048378e-07,\n",
       "        -1.51365371e-07,  4.76215060e-07,  3.26037644e-07,\n",
       "         9.51293188e-08,  4.90169265e-07, -2.13705511e-07,\n",
       "        -3.62950966e-07]])\n",
       " y_events: None"
      ]
     },
     "execution_count": 3,
     "metadata": {},
     "output_type": "execute_result"
    }
   ],
   "source": [
    "# Data Given\n",
    "S0 = 10 # initial [S]\n",
    "E0 = 1 # initial [E]\n",
    "P0 = 0 # initial [P]\n",
    "ES0 = 0 # initial [ES]\n",
    "\n",
    "x0 = (S0, E0, P0, ES0) # pass in all initial concentrations of S, E, P, ES as x initial\n",
    "\n",
    "k1 = 100 # rate constant 1\n",
    "k2 = 600 # rate constant 2\n",
    "k3 = 150 # rate constant 3\n",
    "\n",
    "params = (k1, k2, k3) # pass in all rate constants, k1, k2, k3 as parameters\n",
    "\n",
    "time_range = (0,1) # time range of 1 \n",
    "\n",
    "function = lambda t, x: enzyme_kinetics(t, x, params) # create a user-defined function that returns t and x after passing \n",
    "                                                      # through the enzyme_model function\n",
    "\n",
    "# solve the equation using Runge-Kutta methods (4th order to find solution and 5th order to estimate the error)\n",
    "solution = scipy.integrate.solve_ivp(fun = function, t_span = time_range, y0 = x0, method='RK45', t_eval = np.arange(0,1,0.01))\n",
    "solution"
   ]
  },
  {
   "cell_type": "code",
   "execution_count": 4,
   "metadata": {},
   "outputs": [
    {
     "data": {
      "text/plain": [
       "Text(0.5, 1.0, 'Enzyme-catalyzed reaction')"
      ]
     },
     "execution_count": 4,
     "metadata": {},
     "output_type": "execute_result"
    },
    {
     "data": {
      "image/png": "[encoded data removed]",
      "text/plain": [
       "<Figure size 432x288 with 1 Axes>"
      ]
     },
     "metadata": {
      "needs_background": "light"
     },
     "output_type": "display_data"
    }
   ],
   "source": [
    "# plot graphs of rate of change in S, E, P, ES concentrations with respect to time\n",
    "plt.plot(solution.t, solution.y.T) # plot all values of time, t against all different concentrations of S, E, P and ES\n",
    "plt.xlabel(\"Time\")\n",
    "plt.ylabel(\"Concentration\")\n",
    "plt.legend([\"S\", \"E\", \"P\", \"ES\"])\n",
    "plt.title(\"Enzyme-catalyzed reaction\")\n",
    "\n",
    "# Note that [P] increases while [S] decreases over time"
   ]
  },
  {
   "cell_type": "markdown",
   "metadata": {},
   "source": [
    "### Q2.3\n",
    "\n",
    "$$\n",
    " Velocity,  V = \\frac{dP}{dt}\\\n",
    "$$"
   ]
  },
  {
   "cell_type": "code",
   "execution_count": 5,
   "metadata": {},
   "outputs": [
    {
     "data": {
      "text/plain": [
       "Text(0, 0.5, 'dP/dt')"
      ]
     },
     "execution_count": 5,
     "metadata": {},
     "output_type": "execute_result"
    },
    {
     "data": {
      "image/png": "[encoded data removed]",
      "text/plain": [
       "<Figure size 432x288 with 1 Axes>"
      ]
     },
     "metadata": {
      "needs_background": "light"
     },
     "output_type": "display_data"
    }
   ],
   "source": [
    "# plot graph of rate of change in P concentration with respect to S concentration\n",
    "plt.figure()\n",
    "P = solution.y[2,:].T # extract all values of P (3rd element of vector y)\n",
    "S = solution.y[0,:-1].T # extract all values of S (1st element of vector y)\n",
    "velocity_of_P = np.diff(P) / (solution.t[1] - solution.t[0]) # calculate rate of change in [P] with time \n",
    "plt.axhline(80, linestyle='--')\n",
    "plt.plot(S, velocity_of_P)\n",
    "plt.xlabel('S')\n",
    "plt.ylabel('dP/dt')"
   ]
  },
  {
   "cell_type": "code",
   "execution_count": 6,
   "metadata": {},
   "outputs": [
    {
     "data": {
      "text/plain": [
       "78.99587857126237"
      ]
     },
     "execution_count": 6,
     "metadata": {},
     "output_type": "execute_result"
    }
   ],
   "source": [
    "# Vm = max(Velocity_of_P)\n",
    "max(velocity_of_P)"
   ]
  },
  {
   "cell_type": "markdown",
   "metadata": {},
   "source": [
    "### Answer: Vm = 78.99"
   ]
  },
  {
   "cell_type": "markdown",
   "metadata": {},
   "source": [
    "### References"
   ]
  },
  {
   "cell_type": "code",
   "execution_count": 7,
   "metadata": {},
   "outputs": [],
   "source": [
    "# https://cs.colby.edu/courses/F20/cs341/lecture_notes/lec04.pdf (Accessed 29 January 2022)\n",
    "\n",
    "# https://en.wikipedia.org/wiki/Runge-Kutta_methods (Accessed 29 January 2022)\n",
    "\n",
    "# https://en.wikipedia.org/wiki/Michaelis-Menten_kinetics (Accessed 29 January 2022)"
   ]
  },
  {
   "cell_type": "markdown",
   "metadata": {},
   "source": [
    "### The End"
   ]
  },
  {
   "cell_type": "code",
   "execution_count": null,
   "metadata": {},
   "outputs": [],
   "source": []
  }
 ],
 "metadata": {
  "kernelspec": {
   "display_name": "Python 3",
   "language": "python",
   "name": "python3"
  },
  "language_info": {
   "codemirror_mode": {
    "name": "ipython",
    "version": 3
   },
   "file_extension": ".py",
   "mimetype": "text/x-python",
   "name": "python",
   "nbconvert_exporter": "python",
   "pygments_lexer": "ipython3",
   "version": "3.8.5"
  }
 },
 "nbformat": 4,
 "nbformat_minor": 4
}
